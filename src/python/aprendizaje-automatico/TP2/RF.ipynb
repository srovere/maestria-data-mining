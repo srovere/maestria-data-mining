{
 "cells": [
  {
   "cell_type": "markdown",
   "metadata": {},
   "source": [
    "Comenzando cargando las librerías necesarias"
   ]
  },
  {
   "cell_type": "code",
   "execution_count": 11,
   "metadata": {},
   "outputs": [],
   "source": [
    "import matplotlib.pyplot\n",
    "import numpy\n",
    "import pandas\n",
    "import random\n",
    "import sklearn.ensemble\n",
    "import sklearn.metrics\n",
    "import sklearn.model_selection\n",
    "import sklearn.tree\n",
    "import xgboost"
   ]
  },
  {
   "cell_type": "markdown",
   "metadata": {},
   "source": [
    "A continuación definimos algunas funciones de utilidad y cargamos el conjunto de datos discretizado."
   ]
  },
  {
   "cell_type": "code",
   "execution_count": 4,
   "metadata": {},
   "outputs": [],
   "source": [
    "# Definición de función para discretizar variables por cuantiles\n",
    "def DiscretizarPorCuantiles(datos, columnas, intervalos):\n",
    "    datosNuevos = datos.copy()\n",
    "    informacion = {}\n",
    "    for columna in columnas:\n",
    "        paso      = 1 / intervalos\n",
    "        cuantiles = numpy.arange(0, 1.0 + paso, paso)\n",
    "        etiquetas = list(map(str, numpy.arange(1, intervalos + 1)))\n",
    "\n",
    "        (nuevosDatos, intervalosEtiquetas) = pandas.qcut(x=datos[columna], q=cuantiles, labels=etiquetas, retbins=True)\n",
    "        datosNuevos[columna] = nuevosDatos\n",
    "        informacion[columna] = { \"cuantiles\": cuantiles, \"etiquetas\": etiquetas, \"intervalos\": intervalosEtiquetas }\n",
    "    return [datosNuevos, informacion ]\n",
    "\n",
    "# Definición de función para calcular métricas a partir de un modelo\n",
    "def CalcularMetricas(observaciones, predicciones):\n",
    "    matriz_confusion = sklearn.metrics.confusion_matrix(observaciones, predicciones)\n",
    "    metricas  = {\n",
    "        \"accuracy\": sklearn.metrics.accuracy_score(observaciones, predicciones),\n",
    "        \"precision\": sklearn.metrics.precision_score(observaciones, predicciones),\n",
    "        \"recall\": sklearn.metrics.recall_score(observaciones, predicciones),\n",
    "        \"f1\": sklearn.metrics.f1_score(observaciones, predicciones),\n",
    "        \"TP\": matriz_confusion[1, 1],\n",
    "        \"FP\": matriz_confusion[0, 1],\n",
    "        \"TN\": matriz_confusion[0, 0],\n",
    "        \"FN\": matriz_confusion[1, 0]        \n",
    "    }\n",
    "    return metricas    \n",
    "\n",
    "# Lectura de set de datos discretizado\n",
    "setDatosOriginal = pandas.read_csv(filepath_or_buffer = \"input/SetDatosDiscretizado.csv\", sep = \"\\t\",\n",
    "                                       na_values = \"NA\")\n",
    "setDatosDiscretizado, informacion = DiscretizarPorCuantiles(datos=setDatosOriginal, columnas=['age','height','weight'], intervalos=10)\n",
    "\n",
    "# Separo los features del data frame del target a aprender\n",
    "atributos = setDatosDiscretizado.drop(columns = [ \"id\", \"cardio\" ])\n",
    "objetivo  = setDatosDiscretizado['cardio']\n"
   ]
  },
  {
   "cell_type": "markdown",
   "metadata": {},
   "source": [
    "Luego, separamos el conjunto de datos en conjunto de *desarrollo* y conjunto de *test*"
   ]
  },
  {
   "cell_type": "code",
   "execution_count": 5,
   "metadata": {},
   "outputs": [],
   "source": [
    "# Separar en sets de desarrollo (entrenamiento + validacion) y testeo\n",
    "atributosDesarrollo, atributosTest, objetivoDesarrollo, objetivoTest = \\\n",
    "    sklearn.model_selection.train_test_split(atributos, objetivo, train_size = 0.8, test_size = 0.2, random_state = 0)\n",
    "\n",
    "# Separar el set de desarrollo en sets de entrenamiento y validacion\n",
    "atributosEntrenamiento, atributosValidacion, objetivoEntrenamiento, objetivoValidacion = \\\n",
    "    sklearn.model_selection.train_test_split(atributosDesarrollo, objetivoDesarrollo,\n",
    "                                             train_size = 0.8, test_size = 0.2, random_state = 0)"
   ]
  },
  {
   "cell_type": "markdown",
   "metadata": {},
   "source": [
    "# 1. Clasificación utilizando *Random Forest*"
   ]
  },
  {
   "cell_type": "code",
   "execution_count": 6,
   "metadata": {},
   "outputs": [
    {
     "data": {
      "text/plain": [
       "RandomForestClassifier(bootstrap=True, class_weight=None, criterion='gini',\n",
       "            max_depth=6, max_features='auto', max_leaf_nodes=None,\n",
       "            min_impurity_decrease=0.0, min_impurity_split=None,\n",
       "            min_samples_leaf=1, min_samples_split=2,\n",
       "            min_weight_fraction_leaf=0.0, n_estimators=100, n_jobs=None,\n",
       "            oob_score=False, random_state=0, verbose=0, warm_start=False)"
      ]
     },
     "execution_count": 6,
     "metadata": {},
     "output_type": "execute_result"
    }
   ],
   "source": [
    "clasificadorRandomForest = sklearn.ensemble.RandomForestClassifier(n_estimators=100, criterion=\"gini\", max_depth=6, random_state=0)\n",
    "clasificadorRandomForest.fit(atributosDesarrollo, objetivoDesarrollo)  \n"
   ]
  },
  {
   "cell_type": "markdown",
   "metadata": {},
   "source": [
    "Ahora calculamos métricas utilizando el conjunto de test"
   ]
  },
  {
   "cell_type": "code",
   "execution_count": 8,
   "metadata": {},
   "outputs": [
    {
     "name": "stdout",
     "output_type": "stream",
     "text": [
      "{'accuracy': 0.7297857142857143, 'precision': 0.7700754975978037, 'recall': 0.6475256095801472, 'f1': 0.7035034093581002, 'TP': 4488, 'FP': 1340, 'TN': 5729, 'FN': 2443}\n"
     ]
    }
   ],
   "source": [
    "predicciones = clasificadorRandomForest.predict(atributosTest)\n",
    "metricas     = CalcularMetricas(objetivoTest, predicciones)\n",
    "print(metricas)"
   ]
  },
  {
   "cell_type": "markdown",
   "metadata": {},
   "source": [
    "Finalmente, graficamos la importancia de cada uno de los atributos a los efectos del ajuste según los resultados devueltos por el clasificador *Random Forest*."
   ]
  },
  {
   "cell_type": "code",
   "execution_count": 9,
   "metadata": {},
   "outputs": [
    {
     "name": "stderr",
     "output_type": "stream",
     "text": [
      "/opt/anaconda3/envs/aprendizaje-automatico/lib/python3.7/site-packages/matplotlib/figure.py:445: UserWarning: Matplotlib is currently using module://ipykernel.pylab.backend_inline, which is a non-GUI backend, so cannot show the figure.\n",
      "  % get_backend())\n"
     ]
    },
    {
     "data": {
      "image/png": "[encoded data removed]",
      "text/plain": [
       "<Figure size 864x432 with 1 Axes>"
      ]
     },
     "metadata": {
      "needs_background": "light"
     },
     "output_type": "display_data"
    }
   ],
   "source": [
    "valoresX      = atributosDesarrollo.columns\n",
    "valoresY      = 100 * clasificadorRandomForest.feature_importances_\n",
    "figura, panel = matplotlib.pyplot.subplots(figsize = (12, 6))\n",
    "panel.bar(valoresX, valoresY)\n",
    "panel.set_xlabel('Atributos del conjunto de datos')\n",
    "panel.set_ylabel('Importancia (%)')\n",
    "panel.set_title('Importancia de los atributos según clasificador Random Forest')\n",
    "figura.show()"
   ]
  },
  {
   "cell_type": "markdown",
   "metadata": {},
   "source": [
    "# 2. Clasificación utilizando *Gradient Boosting* (XGBoost)"
   ]
  },
  {
   "cell_type": "code",
   "execution_count": 18,
   "metadata": {},
   "outputs": [
    {
     "ename": "ValueError",
     "evalue": "DataFrame.dtypes for data must be int, float or bool.\n                Did not expect the data types in fields age, height, weight",
     "output_type": "error",
     "traceback": [
      "\u001b[0;31m---------------------------------------------------------------------------\u001b[0m",
      "\u001b[0;31mValueError\u001b[0m                                Traceback (most recent call last)",
      "\u001b[0;32m<ipython-input-18-a33d548ef8fa>\u001b[0m in \u001b[0;36m<module>\u001b[0;34m\u001b[0m\n\u001b[1;32m     15\u001b[0m                                             \u001b[0mseed\u001b[0m\u001b[0;34m=\u001b[0m\u001b[0;36m0\u001b[0m\u001b[0;34m,\u001b[0m\u001b[0;34m\u001b[0m\u001b[0;34m\u001b[0m\u001b[0m\n\u001b[1;32m     16\u001b[0m                                             missing=None)\n\u001b[0;32m---> 17\u001b[0;31m \u001b[0mclasificadorXGBoost\u001b[0m\u001b[0;34m.\u001b[0m\u001b[0mfit\u001b[0m\u001b[0;34m(\u001b[0m\u001b[0matributosDesarrollo\u001b[0m\u001b[0;34m,\u001b[0m \u001b[0mobjetivoDesarrollo\u001b[0m\u001b[0;34m)\u001b[0m\u001b[0;34m\u001b[0m\u001b[0;34m\u001b[0m\u001b[0m\n\u001b[0m",
      "\u001b[0;32m/opt/anaconda3/envs/aprendizaje-automatico/lib/python3.7/site-packages/xgboost/sklearn.py\u001b[0m in \u001b[0;36mfit\u001b[0;34m(self, X, y, sample_weight, eval_set, eval_metric, early_stopping_rounds, verbose, xgb_model, sample_weight_eval_set, callbacks)\u001b[0m\n\u001b[1;32m    724\u001b[0m         \u001b[0;32melse\u001b[0m\u001b[0;34m:\u001b[0m\u001b[0;34m\u001b[0m\u001b[0;34m\u001b[0m\u001b[0m\n\u001b[1;32m    725\u001b[0m             train_dmatrix = DMatrix(X, label=training_labels,\n\u001b[0;32m--> 726\u001b[0;31m                                     missing=self.missing, nthread=self.n_jobs)\n\u001b[0m\u001b[1;32m    727\u001b[0m \u001b[0;34m\u001b[0m\u001b[0m\n\u001b[1;32m    728\u001b[0m         self._Booster = train(xgb_options, train_dmatrix, self.get_num_boosting_rounds(),\n",
      "\u001b[0;32m/opt/anaconda3/envs/aprendizaje-automatico/lib/python3.7/site-packages/xgboost/core.py\u001b[0m in \u001b[0;36m__init__\u001b[0;34m(self, data, label, missing, weight, silent, feature_names, feature_types, nthread)\u001b[0m\n\u001b[1;32m    378\u001b[0m         data, feature_names, feature_types = _maybe_pandas_data(data,\n\u001b[1;32m    379\u001b[0m                                                                 \u001b[0mfeature_names\u001b[0m\u001b[0;34m,\u001b[0m\u001b[0;34m\u001b[0m\u001b[0;34m\u001b[0m\u001b[0m\n\u001b[0;32m--> 380\u001b[0;31m                                                                 feature_types)\n\u001b[0m\u001b[1;32m    381\u001b[0m \u001b[0;34m\u001b[0m\u001b[0m\n\u001b[1;32m    382\u001b[0m         data, feature_names, feature_types = _maybe_dt_data(data,\n",
      "\u001b[0;32m/opt/anaconda3/envs/aprendizaje-automatico/lib/python3.7/site-packages/xgboost/core.py\u001b[0m in \u001b[0;36m_maybe_pandas_data\u001b[0;34m(data, feature_names, feature_types)\u001b[0m\n\u001b[1;32m    237\u001b[0m         msg = \"\"\"DataFrame.dtypes for data must be int, float or bool.\n\u001b[1;32m    238\u001b[0m                 Did not expect the data types in fields \"\"\"\n\u001b[0;32m--> 239\u001b[0;31m         \u001b[0;32mraise\u001b[0m \u001b[0mValueError\u001b[0m\u001b[0;34m(\u001b[0m\u001b[0mmsg\u001b[0m \u001b[0;34m+\u001b[0m \u001b[0;34m', '\u001b[0m\u001b[0;34m.\u001b[0m\u001b[0mjoin\u001b[0m\u001b[0;34m(\u001b[0m\u001b[0mbad_fields\u001b[0m\u001b[0;34m)\u001b[0m\u001b[0;34m)\u001b[0m\u001b[0;34m\u001b[0m\u001b[0;34m\u001b[0m\u001b[0m\n\u001b[0m\u001b[1;32m    240\u001b[0m \u001b[0;34m\u001b[0m\u001b[0m\n\u001b[1;32m    241\u001b[0m     \u001b[0;32mif\u001b[0m \u001b[0mfeature_names\u001b[0m \u001b[0;32mis\u001b[0m \u001b[0;32mNone\u001b[0m\u001b[0;34m:\u001b[0m\u001b[0;34m\u001b[0m\u001b[0;34m\u001b[0m\u001b[0m\n",
      "\u001b[0;31mValueError\u001b[0m: DataFrame.dtypes for data must be int, float or bool.\n                Did not expect the data types in fields age, height, weight"
     ]
    }
   ],
   "source": [
    "clasificadorXGBoost = xgboost.XGBClassifier(max_depth=7,\n",
    "                                            min_child_weight=1,\n",
    "                                            learning_rate=0.1,\n",
    "                                            n_estimators=100,\n",
    "                                            silent=True,\n",
    "                                            objective='binary:logistic',\n",
    "                                            gamma=0,\n",
    "                                            max_delta_step=0,\n",
    "                                            subsample=1,\n",
    "                                            colsample_bytree=1,\n",
    "                                            colsample_bylevel=1,\n",
    "                                            reg_alpha=0,\n",
    "                                            reg_lambda=0,\n",
    "                                            scale_pos_weight=30,\n",
    "                                            seed=0,\n",
    "                                            missing=None)\n",
    "clasificadorXGBoost.fit(atributosDesarrollo, objetivoDesarrollo)"
   ]
  },
  {
   "cell_type": "code",
   "execution_count": 19,
   "metadata": {},
   "outputs": [
    {
     "data": {
      "text/plain": [
       "age            category\n",
       "gender            int64\n",
       "height         category\n",
       "weight         category\n",
       "ap_hi             int64\n",
       "ap_lo             int64\n",
       "cholesterol       int64\n",
       "gluc              int64\n",
       "smoke             int64\n",
       "alco              int64\n",
       "active            int64\n",
       "dtype: object"
      ]
     },
     "execution_count": 19,
     "metadata": {},
     "output_type": "execute_result"
    }
   ],
   "source": []
  },
  {
   "cell_type": "code",
   "execution_count": null,
   "metadata": {},
   "outputs": [],
   "source": []
  }
 ],
 "metadata": {
  "kernelspec": {
   "display_name": "Python 3",
   "language": "python",
   "name": "python3"
  },
  "language_info": {
   "codemirror_mode": {
    "name": "ipython",
    "version": 3
   },
   "file_extension": ".py",
   "mimetype": "text/x-python",
   "name": "python",
   "nbconvert_exporter": "python",
   "pygments_lexer": "ipython3",
   "version": "3.7.2"
  }
 },
 "nbformat": 4,
 "nbformat_minor": 2
}
