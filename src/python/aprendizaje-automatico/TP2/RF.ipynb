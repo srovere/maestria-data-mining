{
 "cells": [
  {
   "cell_type": "markdown",
   "metadata": {},
   "source": [
    "TODO: Introducir el método de RandomForest"
   ]
  },
  {
   "cell_type": "code",
   "execution_count": 46,
   "metadata": {},
   "outputs": [],
   "source": [
    "import matplotlib.pyplot\n",
    "import numpy\n",
    "import pandas\n",
    "import random\n",
    "import sklearn.ensemble\n",
    "import sklearn.metrics\n",
    "import sklearn.model_selection\n",
    "import sklearn.tree"
   ]
  },
  {
   "cell_type": "markdown",
   "metadata": {},
   "source": [
    "A continuación cargamos el conjunto de datos discretizado."
   ]
  },
  {
   "cell_type": "code",
   "execution_count": 26,
   "metadata": {},
   "outputs": [],
   "source": [
    "# Definicion de funcion para discretizar variables por cuantiles\n",
    "def DiscretizarPorCuantiles(datos, columnas, intervalos):\n",
    "    datosNuevos = datos.copy()\n",
    "    informacion = {}\n",
    "    for columna in columnas:\n",
    "        paso      = 1 / intervalos\n",
    "        cuantiles = numpy.arange(0, 1.0 + paso, paso)\n",
    "        etiquetas = list(map(str, numpy.arange(1, intervalos + 1)))\n",
    "\n",
    "        (nuevosDatos, intervalosEtiquetas) = pandas.qcut(x=datos[columna], q=cuantiles, labels=etiquetas, retbins=True)\n",
    "        datosNuevos[columna] = nuevosDatos\n",
    "        informacion[columna] = { \"cuantiles\": cuantiles, \"etiquetas\": etiquetas, \"intervalos\": intervalosEtiquetas }\n",
    "    return [datosNuevos, informacion ]\n",
    "\n",
    "# Lectura de set de datos discretizado\n",
    "setDatosOriginal = pandas.read_csv(filepath_or_buffer = \"input/SetDatosDiscretizado.csv\", sep = \"\\t\",\n",
    "                                       na_values = \"NA\")\n",
    "setDatosDiscretizado, informacion = DiscretizarPorCuantiles(datos=setDatosOriginal, columnas=['age','height','weight'], intervalos=10)\n",
    "\n",
    "# Separo los features del data frame del target a aprender\n",
    "atributos = setDatosDiscretizado.drop(columns = [ \"id\", \"cardio\" ])\n",
    "objetivo  = setDatosDiscretizado['cardio']\n"
   ]
  },
  {
   "cell_type": "markdown",
   "metadata": {},
   "source": [
    "Luego, separamos el conjunto de datos en conjunto de *desarrollo* y conjunto de *test*"
   ]
  },
  {
   "cell_type": "code",
   "execution_count": 27,
   "metadata": {},
   "outputs": [],
   "source": [
    "# Separar en sets de desarrollo (entrenamiento + validacion) y testeo\n",
    "atributosDesarrollo, atributosTest, objetivoDesarrollo, objetivoTest = \\\n",
    "    sklearn.model_selection.train_test_split(atributos, objetivo, train_size = 0.8, test_size = 0.2, random_state = 0)\n",
    "\n",
    "# Separar el set de desarrollo en sets de entrenamiento y validacion\n",
    "atributosEntrenamiento, atributosValidacion, objetivoEntrenamiento, objetivoValidacion = \\\n",
    "    sklearn.model_selection.train_test_split(atributosDesarrollo, objetivoDesarrollo,\n",
    "                                             train_size = 0.8, test_size = 0.2, random_state = 0)"
   ]
  },
  {
   "cell_type": "markdown",
   "metadata": {},
   "source": [
    "Ahora definimos el clasificador *RandomForestClassifier* y realizamos predicciones para distinta cantidad de estimadores"
   ]
  },
  {
   "cell_type": "code",
   "execution_count": 55,
   "metadata": {},
   "outputs": [
    {
     "data": {
      "text/plain": [
       "RandomForestClassifier(bootstrap=True, class_weight=None, criterion='gini',\n",
       "            max_depth=6, max_features='auto', max_leaf_nodes=None,\n",
       "            min_impurity_decrease=0.0, min_impurity_split=None,\n",
       "            min_samples_leaf=1, min_samples_split=2,\n",
       "            min_weight_fraction_leaf=0.0, n_estimators=1000, n_jobs=None,\n",
       "            oob_score=False, random_state=0, verbose=0, warm_start=False)"
      ]
     },
     "execution_count": 55,
     "metadata": {},
     "output_type": "execute_result"
    }
   ],
   "source": [
    "clasificadorRandomForest = sklearn.ensemble.RandomForestClassifier(n_estimators=1000, criterion=\"gini\", max_depth=6, random_state=0)\n",
    "clasificadorRandomForest.fit(atributosDesarrollo, objetivoDesarrollo)  \n"
   ]
  },
  {
   "cell_type": "markdown",
   "metadata": {},
   "source": [
    "Ahora calculamos métricas utilizando el conjunto de test"
   ]
  },
  {
   "cell_type": "code",
   "execution_count": 29,
   "metadata": {},
   "outputs": [
    {
     "name": "stdout",
     "output_type": "stream",
     "text": [
      "[0.1048678  0.00101137 0.0029251  0.03021486 0.51603509 0.23300795\n",
      " 0.09614268 0.00891515 0.00223833 0.0012923  0.00334936]\n"
     ]
    }
   ],
   "source": [
    "predicciones = clasificadorRandomForest.predict(atributosTest)\n",
    "accuracy     = sklearn.metrics.accuracy_score(objetivoTest, predicciones)\n",
    "accuracy\n",
    "print(clasificadorRandomForest.feature_importances_)"
   ]
  },
  {
   "cell_type": "markdown",
   "metadata": {},
   "source": [
    "Finalmente, graficamos la importancia de cada uno de los atributos a los efectos del ajuste según los resultados devueltos por el clasificador *Random Forest*."
   ]
  },
  {
   "cell_type": "code",
   "execution_count": 54,
   "metadata": {},
   "outputs": [
    {
     "data": {
      "image/png": "[encoded data removed]",
      "text/plain": [
       "<Figure size 864x432 with 1 Axes>"
      ]
     },
     "metadata": {
      "needs_background": "light"
     },
     "output_type": "display_data"
    }
   ],
   "source": [
    "valoresX      = atributosDesarrollo.columns\n",
    "valoresY      = 100 * clasificadorRandomForest.feature_importances_\n",
    "figura, panel = matplotlib.pyplot.subplots(figsize = (12, 6))\n",
    "panel.bar(valoresX, valoresY)\n",
    "panel.set_xlabel('Atributos del conjunto de datos')\n",
    "panel.set_ylabel('Importancia (%)')\n",
    "panel.set_title('Importancia de los atributos según clasificador Random Forest')\n",
    "figura.show()"
   ]
  },
  {
   "cell_type": "code",
   "execution_count": null,
   "metadata": {},
   "outputs": [],
   "source": []
  }
 ],
 "metadata": {
  "kernelspec": {
   "display_name": "Python 3",
   "language": "python",
   "name": "python3"
  },
  "language_info": {
   "codemirror_mode": {
    "name": "ipython",
    "version": 3
   },
   "file_extension": ".py",
   "mimetype": "text/x-python",
   "name": "python",
   "nbconvert_exporter": "python",
   "pygments_lexer": "ipython3",
   "version": "3.7.2"
  }
 },
 "nbformat": 4,
 "nbformat_minor": 2
}
