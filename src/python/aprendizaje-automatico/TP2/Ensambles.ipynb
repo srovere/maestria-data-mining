{
 "cells": [
  {
   "cell_type": "markdown",
   "metadata": {},
   "source": [
    "Comenzando cargando las librerías necesarias"
   ]
  },
  {
   "cell_type": "code",
   "execution_count": 1,
   "metadata": {},
   "outputs": [],
   "source": [
    "import matplotlib.pyplot\n",
    "import numpy\n",
    "import pandas\n",
    "import random\n",
    "import sklearn.ensemble\n",
    "import sklearn.metrics\n",
    "import sklearn.model_selection\n",
    "import sklearn.naive_bayes\n",
    "import sklearn.tree\n",
    "import xgboost"
   ]
  },
  {
   "cell_type": "markdown",
   "metadata": {},
   "source": [
    "A continuación definimos algunas funciones de utilidad y cargamos el conjunto de datos discretizado."
   ]
  },
  {
   "cell_type": "code",
   "execution_count": 2,
   "metadata": {},
   "outputs": [],
   "source": [
    "# Definición de función para discretizar variables por cuantiles\n",
    "def DiscretizarPorCuantiles(datos, columnas, intervalos):\n",
    "    datosNuevos = datos.copy()\n",
    "    informacion = {}\n",
    "    for columna in columnas:\n",
    "        paso      = 1 / intervalos\n",
    "        cuantiles = numpy.arange(0, 1.0 + paso, paso)\n",
    "        etiquetas = list(map(str, numpy.arange(1, intervalos + 1)))\n",
    "\n",
    "        (nuevosDatos, intervalosEtiquetas) = pandas.qcut(x=datos[columna], q=cuantiles, labels=etiquetas, retbins=True)\n",
    "        datosNuevos[columna] = nuevosDatos.cat.codes\n",
    "        informacion[columna] = { \"cuantiles\": cuantiles, \"etiquetas\": etiquetas, \"intervalos\": intervalosEtiquetas }\n",
    "    return [datosNuevos, informacion ]\n",
    "\n",
    "# Definición de función para calcular métricas a partir de un modelo\n",
    "def CalcularMetricas(observaciones, predicciones):\n",
    "    matriz_confusion = sklearn.metrics.confusion_matrix(observaciones, predicciones)\n",
    "    metricas  = {\n",
    "        \"accuracy\": sklearn.metrics.accuracy_score(observaciones, predicciones),\n",
    "        \"precision\": sklearn.metrics.precision_score(observaciones, predicciones),\n",
    "        \"recall\": sklearn.metrics.recall_score(observaciones, predicciones),\n",
    "        \"f1\": sklearn.metrics.f1_score(observaciones, predicciones),\n",
    "        \"TP\": matriz_confusion[1, 1],\n",
    "        \"FP\": matriz_confusion[0, 1],\n",
    "        \"TN\": matriz_confusion[0, 0],\n",
    "        \"FN\": matriz_confusion[1, 0]        \n",
    "    }\n",
    "    return metricas    \n",
    "\n",
    "# Lectura de set de datos discretizado\n",
    "setDatosOriginal = pandas.read_csv(filepath_or_buffer = \"input/SetDatosDiscretizado.csv\", sep = \"\\t\",\n",
    "                                       na_values = \"NA\")\n",
    "setDatosDiscretizado, informacion = DiscretizarPorCuantiles(datos=setDatosOriginal, columnas=['age','height','weight'], intervalos=10)\n",
    "\n",
    "# Separo los features del data frame del target a aprender\n",
    "atributos = setDatosDiscretizado.drop(columns = [ \"id\", \"cardio\" ])\n",
    "objetivo  = setDatosDiscretizado['cardio']\n"
   ]
  },
  {
   "cell_type": "markdown",
   "metadata": {},
   "source": [
    "Luego, separamos el conjunto de datos en conjunto de *desarrollo* y conjunto de *test*"
   ]
  },
  {
   "cell_type": "code",
   "execution_count": 3,
   "metadata": {},
   "outputs": [],
   "source": [
    "# Separar en sets de desarrollo (entrenamiento + validacion) y testeo\n",
    "atributosDesarrollo, atributosTest, objetivoDesarrollo, objetivoTest = \\\n",
    "    sklearn.model_selection.train_test_split(atributos, objetivo, train_size = 0.8, test_size = 0.2, random_state = 0)\n",
    "\n",
    "# Separar el set de desarrollo en sets de entrenamiento y validacion\n",
    "atributosEntrenamiento, atributosValidacion, objetivoEntrenamiento, objetivoValidacion = \\\n",
    "    sklearn.model_selection.train_test_split(atributosDesarrollo, objetivoDesarrollo,\n",
    "                                             train_size = 0.8, test_size = 0.2, random_state = 0)"
   ]
  },
  {
   "cell_type": "markdown",
   "metadata": {},
   "source": [
    "# 1. Clasificación utilizando *Random Forest*"
   ]
  },
  {
   "cell_type": "code",
   "execution_count": 4,
   "metadata": {},
   "outputs": [
    {
     "data": {
      "text/plain": [
       "RandomForestClassifier(bootstrap=True, class_weight=None, criterion='gini',\n",
       "            max_depth=6, max_features='auto', max_leaf_nodes=None,\n",
       "            min_impurity_decrease=0.0, min_impurity_split=None,\n",
       "            min_samples_leaf=1, min_samples_split=2,\n",
       "            min_weight_fraction_leaf=0.0, n_estimators=100, n_jobs=None,\n",
       "            oob_score=False, random_state=0, verbose=0, warm_start=False)"
      ]
     },
     "execution_count": 4,
     "metadata": {},
     "output_type": "execute_result"
    }
   ],
   "source": [
    "clasificadorRandomForest = sklearn.ensemble.RandomForestClassifier(n_estimators=100, \n",
    "                                                                   criterion=\"gini\", \n",
    "                                                                   max_depth=6,                                                                    \n",
    "                                                                   random_state=0)\n",
    "clasificadorRandomForest.fit(atributosDesarrollo, objetivoDesarrollo)  \n"
   ]
  },
  {
   "cell_type": "markdown",
   "metadata": {},
   "source": [
    "Ahora calculamos métricas utilizando el conjunto de test"
   ]
  },
  {
   "cell_type": "code",
   "execution_count": 5,
   "metadata": {},
   "outputs": [
    {
     "name": "stdout",
     "output_type": "stream",
     "text": [
      "{'accuracy': 0.7297857142857143, 'precision': 0.7700754975978037, 'recall': 0.6475256095801472, 'f1': 0.7035034093581002, 'TP': 4488, 'FP': 1340, 'TN': 5729, 'FN': 2443}\n"
     ]
    }
   ],
   "source": [
    "prediccionesRF = clasificadorRandomForest.predict(atributosTest)\n",
    "metricasRF     = CalcularMetricas(objetivoTest, prediccionesRF)\n",
    "print(metricasRF)"
   ]
  },
  {
   "cell_type": "markdown",
   "metadata": {},
   "source": [
    "Finalmente, graficamos la importancia de cada uno de los atributos a los efectos del ajuste según los resultados devueltos por el clasificador *Random Forest*."
   ]
  },
  {
   "cell_type": "code",
   "execution_count": 6,
   "metadata": {},
   "outputs": [
    {
     "name": "stderr",
     "output_type": "stream",
     "text": [
      "/opt/anaconda3/envs/aprendizaje-automatico/lib/python3.7/site-packages/matplotlib/figure.py:445: UserWarning: Matplotlib is currently using module://ipykernel.pylab.backend_inline, which is a non-GUI backend, so cannot show the figure.\n",
      "  % get_backend())\n"
     ]
    },
    {
     "data": {
      "image/png": "[encoded data removed]",
      "text/plain": [
       "<Figure size 864x432 with 1 Axes>"
      ]
     },
     "metadata": {
      "needs_background": "light"
     },
     "output_type": "display_data"
    }
   ],
   "source": [
    "valoresX      = atributosDesarrollo.columns\n",
    "valoresY      = 100 * clasificadorRandomForest.feature_importances_\n",
    "figura, panel = matplotlib.pyplot.subplots(figsize = (12, 6))\n",
    "panel.bar(valoresX, valoresY, color=\"#4daf4a\")\n",
    "panel.set_xlabel('Atributos del conjunto de datos')\n",
    "panel.set_ylabel('Importancia (%)')\n",
    "panel.set_title('Importancia de los atributos según clasificador Random Forest')\n",
    "figura.show()"
   ]
  },
  {
   "cell_type": "markdown",
   "metadata": {},
   "source": [
    "# 2. Clasificación utilizando *Gradient Boosting* (XGBoost)"
   ]
  },
  {
   "cell_type": "code",
   "execution_count": 7,
   "metadata": {},
   "outputs": [
    {
     "data": {
      "text/plain": [
       "XGBClassifier(base_score=0.5, booster='gbtree', colsample_bylevel=1,\n",
       "       colsample_bynode=1, colsample_bytree=1, gamma=0, learning_rate=0.2,\n",
       "       max_delta_step=0, max_depth=6, min_child_weight=1, missing=None,\n",
       "       n_estimators=100, n_jobs=1, nthread=None,\n",
       "       objective='binary:logistic', random_state=0, reg_alpha=0,\n",
       "       reg_lambda=1, scale_pos_weight=1, seed=0, silent=None, subsample=1,\n",
       "       verbosity=1)"
      ]
     },
     "execution_count": 7,
     "metadata": {},
     "output_type": "execute_result"
    }
   ],
   "source": [
    "clasificadorXGBoost = xgboost.XGBClassifier(max_depth=6,\n",
    "                                            n_estimators=100,\n",
    "                                            learning_rate=0.2,\n",
    "                                            objective='binary:logistic',\n",
    "                                            seed=0)\n",
    "clasificadorXGBoost.fit(atributosDesarrollo, objetivoDesarrollo)"
   ]
  },
  {
   "cell_type": "markdown",
   "metadata": {},
   "source": [
    "Calculamos meétricas utilizando el conjunto de test"
   ]
  },
  {
   "cell_type": "code",
   "execution_count": 8,
   "metadata": {},
   "outputs": [
    {
     "name": "stdout",
     "output_type": "stream",
     "text": [
      "{'accuracy': 0.7331428571428571, 'precision': 0.7530492634246793, 'recall': 0.6859039099697013, 'f1': 0.7179099969797644, 'TP': 4754, 'FP': 1559, 'TN': 5510, 'FN': 2177}\n"
     ]
    }
   ],
   "source": [
    "prediccionesXGB = clasificadorXGBoost.predict(atributosTest)\n",
    "metricasXGB     = CalcularMetricas(objetivoTest, prediccionesXGB)\n",
    "print(metricasXGB)"
   ]
  },
  {
   "cell_type": "markdown",
   "metadata": {},
   "source": [
    "Graficamos la importancia de los features, según este clasificador."
   ]
  },
  {
   "cell_type": "code",
   "execution_count": 9,
   "metadata": {},
   "outputs": [
    {
     "data": {
      "image/png": "[encoded data removed]",
      "text/plain": [
       "<Figure size 864x432 with 1 Axes>"
      ]
     },
     "metadata": {
      "needs_background": "light"
     },
     "output_type": "display_data"
    }
   ],
   "source": [
    "valoresX      = atributosDesarrollo.columns\n",
    "valoresY      = 100 * clasificadorXGBoost.feature_importances_\n",
    "figura, panel = matplotlib.pyplot.subplots(figsize = (12, 6))\n",
    "panel.bar(valoresX, valoresY, color=\"#377eb8\")\n",
    "panel.set_xlabel('Atributos del conjunto de datos')\n",
    "panel.set_ylabel('Importancia (%)')\n",
    "panel.set_title('Importancia de los atributos según clasificador Gradient Boost')\n",
    "figura.show()"
   ]
  },
  {
   "cell_type": "markdown",
   "metadata": {},
   "source": [
    "# 3. Clasificación utilizando *Ada Boosting* con *Naïve Bayes*"
   ]
  },
  {
   "cell_type": "code",
   "execution_count": 10,
   "metadata": {},
   "outputs": [
    {
     "data": {
      "text/plain": [
       "AdaBoostClassifier(algorithm='SAMME.R',\n",
       "          base_estimator=GaussianNB(priors=None, var_smoothing=1e-09),\n",
       "          learning_rate=0.2, n_estimators=100, random_state=0)"
      ]
     },
     "execution_count": 10,
     "metadata": {},
     "output_type": "execute_result"
    }
   ],
   "source": [
    "estimadorBase        = sklearn.naive_bayes.GaussianNB()\n",
    "clasificadorAdaBoost = sklearn.ensemble.AdaBoostClassifier(n_estimators=100,\n",
    "                                                           base_estimator=estimadorBase,\n",
    "                                                           learning_rate=0.2,\n",
    "                                                           random_state=0)\n",
    "clasificadorAdaBoost.fit(atributosDesarrollo, objetivoDesarrollo)"
   ]
  },
  {
   "cell_type": "markdown",
   "metadata": {},
   "source": [
    "Calculamos meétricas utilizando el conjunto de test"
   ]
  },
  {
   "cell_type": "code",
   "execution_count": 11,
   "metadata": {},
   "outputs": [
    {
     "name": "stdout",
     "output_type": "stream",
     "text": [
      "{'accuracy': 0.692, 'precision': 0.6635852592129918, 'recall': 0.7664117731929014, 'f1': 0.7113015532940545, 'TP': 5312, 'FP': 2693, 'TN': 4376, 'FN': 1619}\n"
     ]
    }
   ],
   "source": [
    "prediccionesAB = clasificadorAdaBoost.predict(atributosTest)\n",
    "metricasAB     = CalcularMetricas(objetivoTest, prediccionesAB)\n",
    "print(metricasAB)"
   ]
  },
  {
   "cell_type": "code",
   "execution_count": null,
   "metadata": {},
   "outputs": [],
   "source": [
    "\n",
    "\n"
   ]
  }
 ],
 "metadata": {
  "kernelspec": {
   "display_name": "Python 3",
   "language": "python",
   "name": "python3"
  },
  "language_info": {
   "codemirror_mode": {
    "name": "ipython",
    "version": 3
   },
   "file_extension": ".py",
   "mimetype": "text/x-python",
   "name": "python",
   "nbconvert_exporter": "python",
   "pygments_lexer": "ipython3",
   "version": "3.7.2"
  }
 },
 "nbformat": 4,
 "nbformat_minor": 2
}
