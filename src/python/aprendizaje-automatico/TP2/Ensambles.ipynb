{
 "cells": [
  {
   "cell_type": "markdown",
   "metadata": {},
   "source": [
    "Comenzando cargando las librerías necesarias"
   ]
  },
  {
   "cell_type": "code",
   "execution_count": 1,
   "metadata": {},
   "outputs": [],
   "source": [
    "import matplotlib.pyplot\n",
    "import numpy\n",
    "import pandas\n",
    "import random\n",
    "import sklearn.ensemble\n",
    "import sklearn.metrics\n",
    "import sklearn.model_selection\n",
    "import sklearn.naive_bayes\n",
    "import sklearn.tree\n",
    "import xgboost"
   ]
  },
  {
   "cell_type": "markdown",
   "metadata": {},
   "source": [
    "A continuación definimos algunas funciones de utilidad y cargamos el conjunto de datos discretizado."
   ]
  },
  {
   "cell_type": "code",
   "execution_count": 48,
   "metadata": {},
   "outputs": [],
   "source": [
    "# Definición de función para discretizar variables por cuantiles\n",
    "def DiscretizarPorCuantiles(datos, columnas, intervalos):\n",
    "    datosNuevos = datos.copy()\n",
    "    informacion = {}\n",
    "    for columna in columnas:\n",
    "        paso      = 1 / intervalos\n",
    "        cuantiles = numpy.arange(0, 1.0 + paso, paso)\n",
    "        etiquetas = list(map(str, numpy.arange(1, intervalos + 1)))\n",
    "\n",
    "        (nuevosDatos, intervalosEtiquetas) = pandas.qcut(x=datos[columna], q=cuantiles, labels=etiquetas, retbins=True)\n",
    "        datosNuevos[columna] = nuevosDatos.cat.codes\n",
    "        informacion[columna] = { \"cuantiles\": cuantiles, \"etiquetas\": etiquetas, \"intervalos\": intervalosEtiquetas }\n",
    "    return [datosNuevos, informacion ]\n",
    "\n",
    "# Definición de función para calcular métricas a partir de un modelo\n",
    "def CalcularMetricas(observaciones, predicciones):\n",
    "    matriz_confusion = sklearn.metrics.confusion_matrix(observaciones, predicciones)\n",
    "    metricas  = {\n",
    "        \"accuracy\": sklearn.metrics.accuracy_score(observaciones, predicciones),\n",
    "        \"roc_auc\": sklearn.metrics.roc_auc_score(observaciones, predicciones),\n",
    "        \"precision\": sklearn.metrics.precision_score(observaciones, predicciones),\n",
    "        \"recall\": sklearn.metrics.recall_score(observaciones, predicciones),\n",
    "        \"f1\": sklearn.metrics.f1_score(observaciones, predicciones),\n",
    "        \"TP\": matriz_confusion[1, 1],\n",
    "        \"FP\": matriz_confusion[0, 1],\n",
    "        \"TN\": matriz_confusion[0, 0],\n",
    "        \"FN\": matriz_confusion[1, 0]        \n",
    "    }\n",
    "    return metricas  \n",
    "\n",
    "# Función para entrenrar un modelos y explorar parámetros utilizando k-Fold Cross Validation\n",
    "def EvaluarPerformance(gridSearch, parametros):\n",
    "    # Generar DataFrame de resultados\n",
    "    resultadosDF  = []\n",
    "    resultados    = gridSearch.cv_results_\n",
    "    combinaciones = resultados[\"params\"]    \n",
    "    for i in range(0, gridSearch.n_splits_):\n",
    "        keyName = \"split\" + str(i) + \"_test_score\"\n",
    "        if keyName in resultados:\n",
    "            valores = resultados[keyName]\n",
    "            for j in range(0, len(combinaciones)):\n",
    "                datosCombinacion = [ i ]\n",
    "                datosCombinacion.append(valores[j])\n",
    "                for parametro in parametros.keys():\n",
    "                    datosCombinacion.append(combinaciones[j][parametro])\n",
    "                resultadosDF.append(datosCombinacion)\n",
    "\n",
    "    columnas  = [\"k\", \"valor\"]\n",
    "    columnas.extend(parametros.keys())\n",
    "    groupcols = list(parametros.keys())\n",
    "    resultadosDF = pandas.DataFrame.from_records(resultadosDF, columns=columnas)\\\n",
    "        .groupby(groupcols, as_index=False)\\\n",
    "        .aggregate({'valor':{'media':'mean', 'desvio':'std'}})\n",
    "    return resultadosDF\n",
    "\n",
    "# Lectura de set de datos discretizado\n",
    "setDatosOriginal = pandas.read_csv(filepath_or_buffer = \"input/SetDatosDiscretizado.csv\", sep = \"\\t\",\n",
    "                                       na_values = \"NA\")\n",
    "setDatosDiscretizado, informacion = DiscretizarPorCuantiles(datos=setDatosOriginal, columnas=['age','height','weight'], intervalos=10)\n",
    "\n",
    "# Separo los features del data frame del target a aprender\n",
    "atributos = setDatosDiscretizado.drop(columns = [ \"id\", \"cardio\" ])\n",
    "objetivo  = setDatosDiscretizado['cardio']\n"
   ]
  },
  {
   "cell_type": "markdown",
   "metadata": {},
   "source": [
    "Luego, separamos el conjunto de datos en conjunto de *desarrollo* y conjunto de *test*"
   ]
  },
  {
   "cell_type": "code",
   "execution_count": 3,
   "metadata": {},
   "outputs": [],
   "source": [
    "# Separar en sets de desarrollo (entrenamiento + validacion) y testeo\n",
    "atributosDesarrollo, atributosTest, objetivoDesarrollo, objetivoTest = \\\n",
    "    sklearn.model_selection.train_test_split(atributos, objetivo, train_size = 0.8, test_size = 0.2, random_state = 0)\n",
    "\n",
    "# Separar el set de desarrollo en sets de entrenamiento y validacion\n",
    "atributosEntrenamiento, atributosValidacion, objetivoEntrenamiento, objetivoValidacion = \\\n",
    "    sklearn.model_selection.train_test_split(atributosDesarrollo, objetivoDesarrollo,\n",
    "                                             train_size = 0.8, test_size = 0.2, random_state = 0)"
   ]
  },
  {
   "cell_type": "markdown",
   "metadata": {},
   "source": [
    "# 1. Clasificación utilizando *Random Forest*"
   ]
  },
  {
   "cell_type": "code",
   "execution_count": 65,
   "metadata": {},
   "outputs": [],
   "source": [
    "clasificadorRandomForest = sklearn.ensemble.RandomForestClassifier(n_estimators=100, \n",
    "                                                                   criterion=\"gini\", \n",
    "                                                                   max_depth=6,                                                                    \n",
    "                                                                   random_state=0)"
   ]
  },
  {
   "cell_type": "markdown",
   "metadata": {},
   "source": [
    "A continuación, exploramos parámetros del clasificador utilizando 5-Fold Cross Validation."
   ]
  },
  {
   "cell_type": "code",
   "execution_count": 69,
   "metadata": {},
   "outputs": [
    {
     "name": "stdout",
     "output_type": "stream",
     "text": [
      "   max_features     valor          \n",
      "                    media    desvio\n",
      "0             1  0.790919  0.004844\n",
      "1             2  0.795744  0.004582\n",
      "2             3  0.797641  0.004382\n",
      "3             4  0.798160  0.004279\n",
      "4             5  0.798666  0.004281\n",
      "5             6  0.798671  0.003969\n",
      "6             7  0.798636  0.003997\n",
      "7             8  0.798507  0.003982\n",
      "8             9  0.798399  0.004051\n",
      "9            10  0.798280  0.004070\n",
      "10           11  0.798380  0.004134\n"
     ]
    },
    {
     "name": "stderr",
     "output_type": "stream",
     "text": [
      "/opt/anaconda3/envs/aprendizaje-automatico/lib/python3.7/site-packages/pandas/core/groupby/generic.py:1315: FutureWarning: using a dict with renaming is deprecated and will be removed in a future version\n",
      "  return super(DataFrameGroupBy, self).aggregate(arg, *args, **kwargs)\n"
     ]
    }
   ],
   "source": [
    "parametrosRF = { \"max_features\": numpy.arange(1, len(atributosDesarrollo.columns)+1) }\n",
    "gridSearchRF = sklearn.model_selection.GridSearchCV(estimator = clasificadorRandomForest, cv = 5, n_jobs = 2, \n",
    "                                                    param_grid = parametrosRF, scoring = 'roc_auc',\n",
    "                                                    return_train_score=False)\n",
    "gridSearchRF.fit(X=atributosDesarrollo, y=objetivoDesarrollo)\n",
    "performanceRF = EvaluarPerformance(gridSearchRF, parametrosRF)\n",
    "print(performanceRF)"
   ]
  },
  {
   "cell_type": "markdown",
   "metadata": {},
   "source": [
    "Ahora calculamos métricas utilizando el conjunto de test."
   ]
  },
  {
   "cell_type": "code",
   "execution_count": 70,
   "metadata": {},
   "outputs": [
    {
     "name": "stdout",
     "output_type": "stream",
     "text": [
      "{'accuracy': 0.7328571428571429, 'roc_auc': 0.7320735184085948, 'precision': 0.7725021349274125, 'recall': 0.6525753859471938, 'f1': 0.7074925699984359, 'TP': 4523, 'FP': 1332, 'TN': 5737, 'FN': 2408}\n"
     ]
    }
   ],
   "source": [
    "prediccionesRF = gridSearchRF.best_estimator_.predict(atributosTest)\n",
    "metricasRF     = CalcularMetricas(objetivoTest, prediccionesRF)\n",
    "print(metricasRF)"
   ]
  },
  {
   "cell_type": "markdown",
   "metadata": {},
   "source": [
    "Finalmente, graficamos la importancia de cada uno de los atributos a los efectos del ajuste según los resultados devueltos por el clasificador *Random Forest*."
   ]
  },
  {
   "cell_type": "code",
   "execution_count": 71,
   "metadata": {},
   "outputs": [
    {
     "name": "stderr",
     "output_type": "stream",
     "text": [
      "/opt/anaconda3/envs/aprendizaje-automatico/lib/python3.7/site-packages/matplotlib/figure.py:445: UserWarning: Matplotlib is currently using module://ipykernel.pylab.backend_inline, which is a non-GUI backend, so cannot show the figure.\n",
      "  % get_backend())\n"
     ]
    },
    {
     "data": {
      "image/png": "[encoded data removed]",
      "text/plain": [
       "<Figure size 864x432 with 1 Axes>"
      ]
     },
     "metadata": {
      "needs_background": "light"
     },
     "output_type": "display_data"
    }
   ],
   "source": [
    "valoresX      = atributosDesarrollo.columns\n",
    "valoresY      = 100 * gridSearchRF.best_estimator_.feature_importances_\n",
    "figura, panel = matplotlib.pyplot.subplots(figsize = (12, 6))\n",
    "panel.bar(valoresX, valoresY, color=\"#4daf4a\")\n",
    "panel.set_xlabel('Atributos del conjunto de datos')\n",
    "panel.set_ylabel('Importancia (%)')\n",
    "panel.set_title('Importancia de los atributos según clasificador Random Forest')\n",
    "figura.show()"
   ]
  },
  {
   "cell_type": "markdown",
   "metadata": {},
   "source": [
    "# 2. Clasificación utilizando *Gradient Boosting* (XGBoost)"
   ]
  },
  {
   "cell_type": "code",
   "execution_count": 59,
   "metadata": {},
   "outputs": [],
   "source": [
    "clasificadorXGBoost = xgboost.XGBClassifier(n_estimators=100,\n",
    "                                            max_depth=6,\n",
    "                                            objective='binary:logistic',\n",
    "                                            seed=0)"
   ]
  },
  {
   "cell_type": "markdown",
   "metadata": {},
   "source": [
    "Calculamos meétricas utilizando el conjunto de test"
   ]
  },
  {
   "cell_type": "code",
   "execution_count": 72,
   "metadata": {},
   "outputs": [
    {
     "name": "stdout",
     "output_type": "stream",
     "text": [
      "   learning_rate     valor          \n",
      "                     media    desvio\n",
      "0           0.01  0.798375  0.003598\n",
      "1           0.05  0.801059  0.003707\n",
      "2           0.10  0.800264  0.003501\n",
      "3           0.15  0.799454  0.003026\n",
      "4           0.20  0.798617  0.003436\n",
      "5           0.25  0.797357  0.003328\n",
      "6           0.30  0.795305  0.002724\n",
      "7           0.35  0.794401  0.002494\n",
      "8           0.40  0.792579  0.003153\n",
      "9           0.45  0.792180  0.002867\n",
      "10          0.50  0.789100  0.003079\n",
      "11          0.60  0.786709  0.002963\n",
      "12          0.70  0.783990  0.003091\n",
      "13          0.80  0.779745  0.003353\n",
      "14          0.90  0.775984  0.001329\n",
      "15          1.00  0.771931  0.002868\n"
     ]
    },
    {
     "name": "stderr",
     "output_type": "stream",
     "text": [
      "/opt/anaconda3/envs/aprendizaje-automatico/lib/python3.7/site-packages/pandas/core/groupby/generic.py:1315: FutureWarning: using a dict with renaming is deprecated and will be removed in a future version\n",
      "  return super(DataFrameGroupBy, self).aggregate(arg, *args, **kwargs)\n"
     ]
    }
   ],
   "source": [
    "parametrosXGB = { \"learning_rate\": [ 0.01, 0.05, 0.1, 0.15, 0.20, 0.25, 0.30, 0.35, 0.40, 0.45, 0.5 ] }\n",
    "gridSearchXGB = sklearn.model_selection.GridSearchCV(estimator = clasificadorXGBoost, cv = 5, n_jobs = 2, \n",
    "                                                    param_grid = parametrosXGB, scoring = 'roc_auc',\n",
    "                                                    return_train_score=False)\n",
    "gridSearchXGB.fit(X=atributosDesarrollo, y=objetivoDesarrollo)\n",
    "performanceXGB = EvaluarPerformance(gridSearchXGB, parametrosXGB)\n",
    "print(performanceXGB)"
   ]
  },
  {
   "cell_type": "markdown",
   "metadata": {},
   "source": [
    "Buscamos la totalidad de las métricas para el mejor clasificador utilizando el conjunto de test."
   ]
  },
  {
   "cell_type": "code",
   "execution_count": 81,
   "metadata": {},
   "outputs": [
    {
     "name": "stdout",
     "output_type": "stream",
     "text": [
      "Mejor ajuste:  {'learning_rate': 0.05}\n",
      "Métricas para el mejor ajuste:  {'accuracy': 0.7353571428571428, 'roc_auc': 0.7348223263080725, 'precision': 0.7598260309278351, 'recall': 0.6805655749531092, 'f1': 0.718015069640003, 'TP': 4717, 'FP': 1491, 'TN': 5578, 'FN': 2214}\n"
     ]
    }
   ],
   "source": [
    "prediccionesXGB = gridSearchXGB.best_estimator_.predict(atributosTest)\n",
    "metricasXGB     = CalcularMetricas(objetivoTest, prediccionesXGB)\n",
    "print(\"Mejor ajuste: \", gridSearchXGB.best_params_)\n",
    "print(\"Métricas para el mejor ajuste: \", metricasXGB)"
   ]
  },
  {
   "cell_type": "markdown",
   "metadata": {},
   "source": [
    "Graficamos la importancia de los features, según este clasificador."
   ]
  },
  {
   "cell_type": "code",
   "execution_count": 104,
   "metadata": {},
   "outputs": [
    {
     "data": {
      "image/png": "[encoded data removed]",
      "text/plain": [
       "<Figure size 864x432 with 1 Axes>"
      ]
     },
     "metadata": {
      "needs_background": "light"
     },
     "output_type": "display_data"
    }
   ],
   "source": [
    "valoresX      = atributosDesarrollo.columns\n",
    "valoresY      = 100 * gridSearchXGB.best_estimator_.feature_importances_\n",
    "figura, panel = matplotlib.pyplot.subplots(figsize = (12, 6))\n",
    "panel.bar(valoresX, valoresY, color=\"#377eb8\")\n",
    "panel.set_xlabel('Atributos del conjunto de datos')\n",
    "panel.set_ylabel('Importancia (%)')\n",
    "panel.set_title('Importancia de los atributos según clasificador Gradient Boost basado en árboles de decisión')\n",
    "figura.show()"
   ]
  },
  {
   "cell_type": "markdown",
   "metadata": {},
   "source": [
    "Antes de pasar al próximo clasificador, comparamos la importancia que los dos clasificadores evaluados le dan a cada uno de los atributos de entrada."
   ]
  },
  {
   "cell_type": "code",
   "execution_count": 121,
   "metadata": {},
   "outputs": [
    {
     "data": {
      "text/plain": [
       "Text(0.5, 1.0, 'Comparativa de importancia de atributos entre modelos basandos en ensamble')"
      ]
     },
     "execution_count": 121,
     "metadata": {},
     "output_type": "execute_result"
    },
    {
     "data": {
      "image/png": "[encoded data removed]",
      "text/plain": [
       "<Figure size 864x432 with 1 Axes>"
      ]
     },
     "metadata": {
      "needs_background": "light"
     },
     "output_type": "display_data"
    }
   ],
   "source": [
    "valoresZ    = 100 * gridSearchRF.best_estimator_.feature_importances_\n",
    "comparativa = pandas.DataFrame(numpy.c_[valoresX, valoresY, valoresZ], index=valoresX)\n",
    "comparativa.columns = [ \"Atributo\", \"Gradient Boost\", \"Random Forest\" ]\n",
    "panel = comparativa.plot.bar(figsize = (12, 6), color=(\"#377eb8\", \"#4daf4a\"))\n",
    "panel.set_xlabel('Atributos del conjunto de datos')\n",
    "panel.set_ylabel('Importancia (%)')\n",
    "panel.set_title('Comparativa de importancia de atributos entre modelos basandos en ensamble')"
   ]
  },
  {
   "cell_type": "markdown",
   "metadata": {},
   "source": [
    "# 3. Clasificación utilizando *Ada Boosting* con *Naïve Bayes*"
   ]
  },
  {
   "cell_type": "code",
   "execution_count": 54,
   "metadata": {},
   "outputs": [],
   "source": [
    "estimadorBase        = sklearn.naive_bayes.GaussianNB()\n",
    "clasificadorAdaBoost = sklearn.ensemble.AdaBoostClassifier(n_estimators=100,\n",
    "                                                           base_estimator=estimadorBase,\n",
    "                                                           random_state=0)"
   ]
  },
  {
   "cell_type": "markdown",
   "metadata": {},
   "source": [
    "Exploramos parámetros del clasificador (en este caso, solamente *learning_rate*) utilizando 5-Fold Cross Validation"
   ]
  },
  {
   "cell_type": "code",
   "execution_count": 82,
   "metadata": {},
   "outputs": [
    {
     "name": "stdout",
     "output_type": "stream",
     "text": [
      "   learning_rate     valor          \n",
      "                     media    desvio\n",
      "0           0.01  0.788062  0.004033\n",
      "1           0.05  0.790049  0.003528\n",
      "2           0.10  0.790519  0.003448\n",
      "3           0.15  0.790523  0.003449\n",
      "4           0.20  0.769274  0.015576\n",
      "5           0.25  0.729537  0.005640\n",
      "6           0.30  0.725133  0.006216\n",
      "7           0.35  0.712001  0.017185\n",
      "8           0.40  0.689090  0.034742\n",
      "9           0.45  0.613003  0.029389\n",
      "10          0.50  0.611635  0.063441\n",
      "11          0.60  0.583241  0.013525\n",
      "12          0.70  0.605745  0.073554\n",
      "13          0.80  0.527156  0.053175\n",
      "14          0.90  0.532357  0.073666\n",
      "15          1.00  0.638936  0.071588\n"
     ]
    },
    {
     "name": "stderr",
     "output_type": "stream",
     "text": [
      "/opt/anaconda3/envs/aprendizaje-automatico/lib/python3.7/site-packages/pandas/core/groupby/generic.py:1315: FutureWarning: using a dict with renaming is deprecated and will be removed in a future version\n",
      "  return super(DataFrameGroupBy, self).aggregate(arg, *args, **kwargs)\n"
     ]
    }
   ],
   "source": [
    "parametrosAB = { \"learning_rate\": [ 0.01, 0.05, 0.1, 0.15, 0.20, 0.25, 0.30, 0.35, 0.40, 0.45, 0.5, 0.6, 0.7, 0.8, 0.9, 1.0 ] }\n",
    "gridSearchAB = sklearn.model_selection.GridSearchCV(estimator = clasificadorAdaBoost, cv = 5, n_jobs = 2, \n",
    "                                                    param_grid = parametrosAB, scoring = 'roc_auc',\n",
    "                                                    return_train_score=False)\n",
    "gridSearchAB.fit(X=atributosDesarrollo, y=objetivoDesarrollo)\n",
    "performanceAB = EvaluarPerformance(gridSearchAB, parametrosAB)\n",
    "print(performanceAB)"
   ]
  },
  {
   "cell_type": "markdown",
   "metadata": {},
   "source": [
    "Obtenemos todas las métricas del mejor clasificador utilizando el conjunto de *test*"
   ]
  },
  {
   "cell_type": "code",
   "execution_count": 83,
   "metadata": {},
   "outputs": [
    {
     "name": "stdout",
     "output_type": "stream",
     "text": [
      "Mejor ajuste:  {'learning_rate': 0.15}\n",
      "Métricas para el mejor ajuste:  {'accuracy': 0.7271428571428571, 'roc_auc': 0.7266304793410642, 'precision': 0.7492389040217914, 'recall': 0.6746501226374261, 'f1': 0.7099908897661706, 'TP': 4676, 'FP': 1565, 'TN': 5504, 'FN': 2255}\n"
     ]
    }
   ],
   "source": [
    "prediccionesAB = gridSearchAB.best_estimator_.predict(atributosTest)\n",
    "metricasAB     = CalcularMetricas(objetivoTest, prediccionesAB)\n",
    "print(\"Mejor ajuste: \", gridSearchAB.best_params_)\n",
    "print(\"Métricas para el mejor ajuste: \", metricasAB)"
   ]
  },
  {
   "cell_type": "markdown",
   "metadata": {},
   "source": [
    "Es interesante observar al valor medio de la métrica *ROC AUC* en función del valor de *learning_rate*."
   ]
  },
  {
   "cell_type": "code",
   "execution_count": 96,
   "metadata": {},
   "outputs": [
    {
     "data": {
      "image/png": "[encoded data removed]",
      "text/plain": [
       "<Figure size 864x432 with 1 Axes>"
      ]
     },
     "metadata": {
      "needs_background": "light"
     },
     "output_type": "display_data"
    }
   ],
   "source": [
    "valoresX = list(performanceAB['learning_rate'])\n",
    "valoresY = list(performanceAB['valor']['media'])\n",
    "figura, panel = matplotlib.pyplot.subplots(figsize = (12, 6))\n",
    "panel.plot(valoresX, valoresY, '.-', color=\"#e41a1c\")\n",
    "panel.set_xlabel('Tasa de aprendizaje')\n",
    "panel.set_ylabel('Valor de ROC AUC')\n",
    "panel.set_title('Evolución de ROC AUC para distintas tasas de aprendizaje')\n",
    "figura.show()"
   ]
  },
  {
   "cell_type": "code",
   "execution_count": null,
   "metadata": {},
   "outputs": [],
   "source": []
  }
 ],
 "metadata": {
  "kernelspec": {
   "display_name": "Python 3",
   "language": "python",
   "name": "python3"
  },
  "language_info": {
   "codemirror_mode": {
    "name": "ipython",
    "version": 3
   },
   "file_extension": ".py",
   "mimetype": "text/x-python",
   "name": "python",
   "nbconvert_exporter": "python",
   "pygments_lexer": "ipython3",
   "version": "3.7.2"
  }
 },
 "nbformat": 4,
 "nbformat_minor": 2
}
