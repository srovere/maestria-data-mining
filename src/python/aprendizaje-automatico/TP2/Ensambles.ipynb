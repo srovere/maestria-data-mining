{
 "cells": [
  {
   "cell_type": "markdown",
   "metadata": {},
   "source": [
    "Comenzando cargando las librerías necesarias"
   ]
  },
  {
   "cell_type": "code",
   "execution_count": 1,
   "metadata": {},
   "outputs": [],
   "source": [
    "import matplotlib.pyplot\n",
    "import numpy\n",
    "import pandas\n",
    "import random\n",
    "import sklearn.ensemble\n",
    "import sklearn.metrics\n",
    "import sklearn.model_selection\n",
    "import sklearn.naive_bayes\n",
    "import sklearn.tree\n",
    "import vecstack\n",
    "import xgboost"
   ]
  },
  {
   "cell_type": "markdown",
   "metadata": {},
   "source": [
    "A continuación definimos algunas funciones de utilidad y cargamos el conjunto de datos discretizado."
   ]
  },
  {
   "cell_type": "code",
   "execution_count": 2,
   "metadata": {},
   "outputs": [],
   "source": [
    "# Definición de función para discretizar variables por cuantiles\n",
    "def DiscretizarPorCuantiles(datos, columnas, intervalos):\n",
    "    datosNuevos = datos.copy()\n",
    "    informacion = {}\n",
    "    for columna in columnas:\n",
    "        paso      = 1 / intervalos\n",
    "        cuantiles = numpy.arange(0, 1.0 + paso, paso)\n",
    "        etiquetas = list(map(str, numpy.arange(1, intervalos + 1)))\n",
    "\n",
    "        (nuevosDatos, intervalosEtiquetas) = pandas.qcut(x=datos[columna], q=cuantiles, labels=etiquetas, retbins=True)\n",
    "        datosNuevos[columna] = nuevosDatos.cat.codes\n",
    "        informacion[columna] = { \"cuantiles\": cuantiles, \"etiquetas\": etiquetas, \"intervalos\": intervalosEtiquetas }\n",
    "    return [datosNuevos, informacion ]\n",
    "\n",
    "# Definición de función para calcular métricas a partir de un modelo\n",
    "def CalcularMetricas(observaciones, predicciones):\n",
    "    matriz_confusion = sklearn.metrics.confusion_matrix(observaciones, predicciones)\n",
    "    metricas  = {\n",
    "        \"accuracy\": sklearn.metrics.accuracy_score(observaciones, predicciones),\n",
    "        \"roc_auc\": sklearn.metrics.roc_auc_score(observaciones, predicciones),\n",
    "        \"precision\": sklearn.metrics.precision_score(observaciones, predicciones),\n",
    "        \"recall\": sklearn.metrics.recall_score(observaciones, predicciones),\n",
    "        \"f1\": sklearn.metrics.f1_score(observaciones, predicciones),\n",
    "        \"f2\": sklearn.metrics.fbeta_score(observaciones, predicciones, beta = 2),\n",
    "        \"TP\": matriz_confusion[1, 1],\n",
    "        \"FP\": matriz_confusion[0, 1],\n",
    "        \"TN\": matriz_confusion[0, 0],\n",
    "        \"FN\": matriz_confusion[1, 0]        \n",
    "    }\n",
    "    return metricas  \n",
    "\n",
    "# Función para entrenrar un modelos y explorar parámetros utilizando k-Fold Cross Validation\n",
    "def EvaluarPerformance(gridSearch, parametros):\n",
    "    # Generar DataFrame de resultados\n",
    "    resultadosDF  = []\n",
    "    resultados    = gridSearch.cv_results_\n",
    "    combinaciones = resultados[\"params\"]    \n",
    "    for i in range(0, gridSearch.n_splits_):\n",
    "        keyName = \"split\" + str(i) + \"_test_score\"\n",
    "        if keyName in resultados:\n",
    "            valores = resultados[keyName]\n",
    "            for j in range(0, len(combinaciones)):\n",
    "                datosCombinacion = [ i ]\n",
    "                datosCombinacion.append(valores[j])\n",
    "                for parametro in parametros.keys():\n",
    "                    datosCombinacion.append(combinaciones[j][parametro])\n",
    "                resultadosDF.append(datosCombinacion)\n",
    "\n",
    "    columnas  = [\"k\", \"valor\"]\n",
    "    columnas.extend(parametros.keys())\n",
    "    groupcols = list(parametros.keys())\n",
    "    resultadosDF = pandas.DataFrame.from_records(resultadosDF, columns=columnas)\\\n",
    "        .groupby(groupcols, as_index=False)\\\n",
    "        .aggregate({'valor':{'media':'mean', 'desvio':'std'}})\n",
    "    return resultadosDF\n",
    "\n",
    "# Lectura de set de datos discretizado\n",
    "setDatosOriginal = pandas.read_csv(filepath_or_buffer = \"input/SetDatosDiscretizado.csv\", sep = \"\\t\",\n",
    "                                       na_values = \"NA\")\n",
    "setDatosDiscretizado, informacion = DiscretizarPorCuantiles(datos=setDatosOriginal, columnas=['age','height','weight'], intervalos=10)\n",
    "\n",
    "# Separo los features del data frame del target a aprender\n",
    "atributos = setDatosDiscretizado.drop(columns = [ \"id\", \"cardio\" ])\n",
    "objetivo  = setDatosDiscretizado['cardio']\n"
   ]
  },
  {
   "cell_type": "markdown",
   "metadata": {},
   "source": [
    "Luego, separamos el conjunto de datos en conjunto de *desarrollo* y conjunto de *test*"
   ]
  },
  {
   "cell_type": "code",
   "execution_count": 3,
   "metadata": {},
   "outputs": [],
   "source": [
    "# Separar en sets de desarrollo (entrenamiento + validacion) y testeo\n",
    "atributosDesarrollo, atributosTest, objetivoDesarrollo, objetivoTest = \\\n",
    "    sklearn.model_selection.train_test_split(atributos, objetivo, train_size = 0.8, test_size = 0.2, random_state = 0)\n",
    "\n",
    "# Separar el set de desarrollo en sets de entrenamiento y validacion\n",
    "atributosEntrenamiento, atributosValidacion, objetivoEntrenamiento, objetivoValidacion = \\\n",
    "    sklearn.model_selection.train_test_split(atributosDesarrollo, objetivoDesarrollo,\n",
    "                                             train_size = 0.8, test_size = 0.2, random_state = 0)"
   ]
  },
  {
   "cell_type": "markdown",
   "metadata": {},
   "source": [
    "# 1. Clasificación utilizando *Random Forest*"
   ]
  },
  {
   "cell_type": "code",
   "execution_count": 20,
   "metadata": {},
   "outputs": [],
   "source": [
    "clasificadorRandomForest = sklearn.ensemble.RandomForestClassifier(n_estimators=2, \n",
    "                                                                   criterion=\"gini\", \n",
    "                                                                   max_depth=6,                                                                    \n",
    "                                                                   random_state=0)"
   ]
  },
  {
   "cell_type": "markdown",
   "metadata": {},
   "source": [
    "A continuación, exploramos parámetros del clasificador utilizando 5-Fold Cross Validation."
   ]
  },
  {
   "cell_type": "code",
   "execution_count": 21,
   "metadata": {},
   "outputs": [
    {
     "name": "stdout",
     "output_type": "stream",
     "text": [
      "   max_features     valor          \n",
      "                    media    desvio\n",
      "0             1  0.643711  0.040365\n",
      "1             2  0.689355  0.020785\n",
      "2             3  0.666014  0.010179\n",
      "3             4  0.684345  0.010496\n",
      "4             5  0.671155  0.016773\n",
      "5             6  0.684125  0.011027\n",
      "6             7  0.691689  0.002309\n",
      "7             8  0.683879  0.016584\n",
      "8             9  0.688741  0.014385\n",
      "9            10  0.689277  0.019156\n",
      "10           11  0.685770  0.014370\n"
     ]
    },
    {
     "name": "stderr",
     "output_type": "stream",
     "text": [
      "/opt/anaconda3/envs/aprendizaje-automatico/lib/python3.7/site-packages/pandas/core/groupby/generic.py:1315: FutureWarning: using a dict with renaming is deprecated and will be removed in a future version\n",
      "  return super(DataFrameGroupBy, self).aggregate(arg, *args, **kwargs)\n"
     ]
    }
   ],
   "source": [
    "fbeta_scorer = sklearn.metrics.make_scorer(sklearn.metrics.fbeta_score, beta=2)\n",
    "parametrosRF = { \"max_features\": numpy.arange(1, len(atributosDesarrollo.columns)+1) }\n",
    "gridSearchRF = sklearn.model_selection.GridSearchCV(estimator = clasificadorRandomForest, cv = 5, n_jobs = 4, \n",
    "                                                    param_grid = parametrosRF, scoring = fbeta_scorer,\n",
    "                                                    return_train_score=False)\n",
    "gridSearchRF.fit(X=atributosDesarrollo, y=objetivoDesarrollo)\n",
    "performanceRF = EvaluarPerformance(gridSearchRF, parametrosRF)\n",
    "print(performanceRF)"
   ]
  },
  {
   "cell_type": "markdown",
   "metadata": {},
   "source": [
    "Ahora calculamos métricas utilizando el conjunto de test."
   ]
  },
  {
   "cell_type": "code",
   "execution_count": 6,
   "metadata": {},
   "outputs": [
    {
     "name": "stdout",
     "output_type": "stream",
     "text": [
      "{'accuracy': 0.7302857142857143, 'roc_auc': 0.7294990233642905, 'precision': 0.7696120321312596, 'recall': 0.6496897994517385, 'f1': 0.7045845720544515, 'f2': 0.6705882352941176, 'TP': 4503, 'FP': 1348, 'TN': 5721, 'FN': 2428}\n"
     ]
    }
   ],
   "source": [
    "prediccionesRF = gridSearchRF.best_estimator_.predict(atributosTest)\n",
    "metricasRF     = CalcularMetricas(objetivoTest, prediccionesRF)\n",
    "print(metricasRF)"
   ]
  },
  {
   "cell_type": "markdown",
   "metadata": {},
   "source": [
    "Finalmente, graficamos la importancia de cada uno de los atributos a los efectos del ajuste según los resultados devueltos por el clasificador *Random Forest*."
   ]
  },
  {
   "cell_type": "code",
   "execution_count": 7,
   "metadata": {},
   "outputs": [
    {
     "name": "stderr",
     "output_type": "stream",
     "text": [
      "/opt/anaconda3/envs/aprendizaje-automatico/lib/python3.7/site-packages/matplotlib/figure.py:445: UserWarning: Matplotlib is currently using module://ipykernel.pylab.backend_inline, which is a non-GUI backend, so cannot show the figure.\n",
      "  % get_backend())\n"
     ]
    },
    {
     "data": {
      "image/png": "[encoded data removed]",
      "text/plain": [
       "<Figure size 864x432 with 1 Axes>"
      ]
     },
     "metadata": {
      "needs_background": "light"
     },
     "output_type": "display_data"
    }
   ],
   "source": [
    "valoresX      = atributosDesarrollo.columns\n",
    "valoresY      = 100 * gridSearchRF.best_estimator_.feature_importances_\n",
    "figura, panel = matplotlib.pyplot.subplots(figsize = (12, 6))\n",
    "panel.bar(valoresX, valoresY, color=\"#4daf4a\")\n",
    "panel.set_xlabel('Atributos del conjunto de datos')\n",
    "panel.set_ylabel('Importancia (%)')\n",
    "panel.set_title('Importancia de los atributos según clasificador Random Forest')\n",
    "figura.show()"
   ]
  },
  {
   "cell_type": "markdown",
   "metadata": {},
   "source": [
    "# 2. Clasificación utilizando *Gradient Boosting* (XGBoost)"
   ]
  },
  {
   "cell_type": "code",
   "execution_count": 24,
   "metadata": {},
   "outputs": [],
   "source": [
    "clasificadorXGBoost = xgboost.XGBClassifier(n_estimators=100,\n",
    "                                            max_depth=6,\n",
    "                                            objective='binary:logistic',\n",
    "                                            seed=0)"
   ]
  },
  {
   "cell_type": "markdown",
   "metadata": {},
   "source": [
    "Calculamos meétricas utilizando el conjunto de test"
   ]
  },
  {
   "cell_type": "code",
   "execution_count": 25,
   "metadata": {},
   "outputs": [
    {
     "name": "stdout",
     "output_type": "stream",
     "text": [
      "   learning_rate     valor          \n",
      "                     media    desvio\n",
      "0           0.01  0.685553  0.007512\n",
      "1           0.05  0.701010  0.004458\n",
      "2           0.10  0.704450  0.003873\n",
      "3           0.15  0.704501  0.003103\n",
      "4           0.20  0.705990  0.004723\n",
      "5           0.25  0.705524  0.003009\n",
      "6           0.30  0.705268  0.004621\n",
      "7           0.35  0.704666  0.004212\n",
      "8           0.40  0.702239  0.005203\n",
      "9           0.45  0.702322  0.004546\n",
      "10          0.50  0.700589  0.004991\n"
     ]
    },
    {
     "name": "stderr",
     "output_type": "stream",
     "text": [
      "/opt/anaconda3/envs/aprendizaje-automatico/lib/python3.7/site-packages/pandas/core/groupby/generic.py:1315: FutureWarning: using a dict with renaming is deprecated and will be removed in a future version\n",
      "  return super(DataFrameGroupBy, self).aggregate(arg, *args, **kwargs)\n"
     ]
    }
   ],
   "source": [
    "parametrosXGB = { \"learning_rate\": [ 0.01, 0.05, 0.1, 0.15, 0.20, 0.25, 0.30, 0.35, 0.40, 0.45, 0.5 ] }\n",
    "gridSearchXGB = sklearn.model_selection.GridSearchCV(estimator = clasificadorXGBoost, cv = 5, n_jobs = 4, \n",
    "                                                     param_grid = parametrosXGB, scoring = fbeta_scorer,\n",
    "                                                     return_train_score=False)\n",
    "gridSearchXGB.fit(X=atributosDesarrollo, y=objetivoDesarrollo)\n",
    "performanceXGB = EvaluarPerformance(gridSearchXGB, parametrosXGB)\n",
    "print(performanceXGB)"
   ]
  },
  {
   "cell_type": "markdown",
   "metadata": {},
   "source": [
    "Buscamos la totalidad de las métricas para el mejor clasificador utilizando el conjunto de test."
   ]
  },
  {
   "cell_type": "code",
   "execution_count": 26,
   "metadata": {
    "scrolled": true
   },
   "outputs": [
    {
     "name": "stdout",
     "output_type": "stream",
     "text": [
      "Mejor ajuste:  {'learning_rate': 0.2}\n",
      "Métricas para el mejor ajuste:  {'accuracy': 0.7331428571428571, 'roc_auc': 0.732681761180918, 'precision': 0.7530492634246793, 'recall': 0.6859039099697013, 'f1': 0.7179099969797644, 'f2': 0.6983576695948527, 'TP': 4754, 'FP': 1559, 'TN': 5510, 'FN': 2177}\n"
     ]
    }
   ],
   "source": [
    "prediccionesXGB = gridSearchXGB.best_estimator_.predict(atributosTest)\n",
    "metricasXGB     = CalcularMetricas(objetivoTest, prediccionesXGB)\n",
    "print(\"Mejor ajuste: \", gridSearchXGB.best_params_)\n",
    "print(\"Métricas para el mejor ajuste: \", metricasXGB)"
   ]
  },
  {
   "cell_type": "markdown",
   "metadata": {},
   "source": [
    "Graficamos la importancia de los features, según este clasificador."
   ]
  },
  {
   "cell_type": "code",
   "execution_count": 27,
   "metadata": {},
   "outputs": [
    {
     "name": "stderr",
     "output_type": "stream",
     "text": [
      "/opt/anaconda3/envs/aprendizaje-automatico/lib/python3.7/site-packages/matplotlib/figure.py:445: UserWarning: Matplotlib is currently using module://ipykernel.pylab.backend_inline, which is a non-GUI backend, so cannot show the figure.\n",
      "  % get_backend())\n"
     ]
    },
    {
     "data": {
      "image/png": "[encoded data removed]",
      "text/plain": [
       "<Figure size 864x432 with 1 Axes>"
      ]
     },
     "metadata": {
      "needs_background": "light"
     },
     "output_type": "display_data"
    }
   ],
   "source": [
    "valoresX      = atributosDesarrollo.columns\n",
    "valoresY      = 100 * gridSearchXGB.best_estimator_.feature_importances_\n",
    "figura, panel = matplotlib.pyplot.subplots(figsize = (12, 6))\n",
    "panel.bar(valoresX, valoresY, color=\"#377eb8\")\n",
    "panel.set_xlabel('Atributos del conjunto de datos')\n",
    "panel.set_ylabel('Importancia (%)')\n",
    "panel.set_title('Importancia de los atributos según clasificador Gradient Boost basado en árboles de decisión')\n",
    "figura.show()"
   ]
  },
  {
   "cell_type": "markdown",
   "metadata": {},
   "source": [
    "Antes de pasar al próximo clasificador, comparamos la importancia que los dos clasificadores evaluados le dan a cada uno de los atributos de entrada."
   ]
  },
  {
   "cell_type": "code",
   "execution_count": 28,
   "metadata": {},
   "outputs": [
    {
     "data": {
      "text/plain": [
       "Text(0.5, 1.0, 'Comparativa de importancia de atributos entre modelos basandos en árboles')"
      ]
     },
     "execution_count": 28,
     "metadata": {},
     "output_type": "execute_result"
    },
    {
     "data": {
      "image/png": "[encoded data removed]",
      "text/plain": [
       "<Figure size 864x432 with 1 Axes>"
      ]
     },
     "metadata": {
      "needs_background": "light"
     },
     "output_type": "display_data"
    }
   ],
   "source": [
    "valoresZ    = 100 * gridSearchRF.best_estimator_.feature_importances_\n",
    "comparativa = pandas.DataFrame(numpy.c_[valoresX, valoresY, valoresZ], index=valoresX)\n",
    "comparativa.columns = [ \"Atributo\", \"Gradient Boost\", \"Random Forest\" ]\n",
    "panel = comparativa.plot.bar(figsize = (12, 6), color=(\"#377eb8\", \"#4daf4a\"))\n",
    "panel.set_xlabel('Atributos del conjunto de datos')\n",
    "panel.set_ylabel('Importancia (%)')\n",
    "panel.set_title('Comparativa de importancia de atributos entre modelos basandos en árboles')"
   ]
  },
  {
   "cell_type": "markdown",
   "metadata": {},
   "source": [
    "# 3. Clasificación utilizando *Ada Boosting* con *Naïve Bayes*"
   ]
  },
  {
   "cell_type": "code",
   "execution_count": 13,
   "metadata": {},
   "outputs": [],
   "source": [
    "estimadorBase        = sklearn.naive_bayes.GaussianNB()\n",
    "clasificadorAdaBoost = sklearn.ensemble.AdaBoostClassifier(n_estimators=100,\n",
    "                                                           base_estimator=estimadorBase,\n",
    "                                                           random_state=0)"
   ]
  },
  {
   "cell_type": "markdown",
   "metadata": {},
   "source": [
    "Exploramos parámetros del clasificador (en este caso, solamente *learning_rate*) utilizando 5-Fold Cross Validation"
   ]
  },
  {
   "cell_type": "code",
   "execution_count": 14,
   "metadata": {},
   "outputs": [
    {
     "name": "stdout",
     "output_type": "stream",
     "text": [
      "   learning_rate     valor          \n",
      "                     media    desvio\n",
      "0           0.01  0.682457  0.002899\n",
      "1           0.05  0.696262  0.003370\n",
      "2           0.10  0.695179  0.003703\n",
      "3           0.15  0.694327  0.004319\n",
      "4           0.20  0.697731  0.027363\n",
      "5           0.25  0.714964  0.058381\n",
      "6           0.30  0.693417  0.098171\n",
      "7           0.35  0.595786  0.218457\n",
      "8           0.40  0.560959  0.244862\n",
      "9           0.45  0.585916  0.119004\n",
      "10          0.50  0.559493  0.321955\n",
      "11          0.60  0.597232  0.337441\n",
      "12          0.70  0.504293  0.205470\n",
      "13          0.80  0.422852  0.331645\n",
      "14          0.90  0.611174  0.167772\n",
      "15          1.00  0.324127  0.289668\n"
     ]
    },
    {
     "name": "stderr",
     "output_type": "stream",
     "text": [
      "/opt/anaconda3/envs/aprendizaje-automatico/lib/python3.7/site-packages/pandas/core/groupby/generic.py:1315: FutureWarning: using a dict with renaming is deprecated and will be removed in a future version\n",
      "  return super(DataFrameGroupBy, self).aggregate(arg, *args, **kwargs)\n"
     ]
    }
   ],
   "source": [
    "parametrosAB = { \"learning_rate\": [ 0.01, 0.05, 0.1, 0.15, 0.20, 0.25, 0.30, 0.35, 0.40, 0.45, 0.5, 0.6, 0.7, 0.8, 0.9, 1.0 ] }\n",
    "gridSearchAB = sklearn.model_selection.GridSearchCV(estimator = clasificadorAdaBoost, cv = 5, n_jobs = 4, \n",
    "                                                    param_grid = parametrosAB, scoring = fbeta_scorer,\n",
    "                                                    return_train_score=False)\n",
    "gridSearchAB.fit(X=atributosDesarrollo, y=objetivoDesarrollo)\n",
    "performanceAB = EvaluarPerformance(gridSearchAB, parametrosAB)\n",
    "print(performanceAB)"
   ]
  },
  {
   "cell_type": "markdown",
   "metadata": {},
   "source": [
    "Obtenemos todas las métricas del mejor clasificador utilizando el conjunto de *test*"
   ]
  },
  {
   "cell_type": "code",
   "execution_count": 15,
   "metadata": {},
   "outputs": [
    {
     "name": "stdout",
     "output_type": "stream",
     "text": [
      "Mejor ajuste:  {'learning_rate': 0.25}\n",
      "Métricas para el mejor ajuste:  {'accuracy': 0.6707142857142857, 'roc_auc': 0.671404746081553, 'precision': 0.6458464245318587, 'recall': 0.741451450007214, 'f1': 0.6903546480386888, 'f2': 0.7201311622432106, 'TP': 5139, 'FP': 2818, 'TN': 4251, 'FN': 1792}\n"
     ]
    }
   ],
   "source": [
    "prediccionesAB = gridSearchAB.best_estimator_.predict(atributosTest)\n",
    "metricasAB     = CalcularMetricas(objetivoTest, prediccionesAB)\n",
    "print(\"Mejor ajuste: \", gridSearchAB.best_params_)\n",
    "print(\"Métricas para el mejor ajuste: \", metricasAB)"
   ]
  },
  {
   "cell_type": "markdown",
   "metadata": {},
   "source": [
    "Es interesante observar al valor medio de la métrica *ROC AUC* en función del valor de *learning_rate*."
   ]
  },
  {
   "cell_type": "code",
   "execution_count": 16,
   "metadata": {},
   "outputs": [
    {
     "name": "stderr",
     "output_type": "stream",
     "text": [
      "/opt/anaconda3/envs/aprendizaje-automatico/lib/python3.7/site-packages/matplotlib/figure.py:445: UserWarning: Matplotlib is currently using module://ipykernel.pylab.backend_inline, which is a non-GUI backend, so cannot show the figure.\n",
      "  % get_backend())\n"
     ]
    },
    {
     "data": {
      "image/png": "[encoded data removed]",
      "text/plain": [
       "<Figure size 864x432 with 1 Axes>"
      ]
     },
     "metadata": {
      "needs_background": "light"
     },
     "output_type": "display_data"
    }
   ],
   "source": [
    "valoresX = list(performanceAB['learning_rate'])\n",
    "valoresY = list(performanceAB['valor']['media'])\n",
    "valoresZ = list(performanceAB['valor']['desvio'])\n",
    "figura, panel = matplotlib.pyplot.subplots(figsize = (12, 6))\n",
    "panel.errorbar(valoresX, valoresY, yerr=valoresZ, fmt='-o', color=\"#e41a1c\")\n",
    "panel.set_xlabel('Tasa de aprendizaje')\n",
    "panel.set_ylabel('Valor de F2 (media y desvío)')\n",
    "panel.set_title('Evolución de F2 (sobre conjunto de desarrollo) para distintas tasas de aprendizaje')\n",
    "figura.show()"
   ]
  },
  {
   "cell_type": "code",
   "execution_count": 19,
   "metadata": {
    "scrolled": true
   },
   "outputs": [
    {
     "name": "stdout",
     "output_type": "stream",
     "text": [
      "task:         [regression]\n",
      "metric:       [f2_score]\n",
      "mode:         [oof_pred_bag]\n",
      "n_models:     [3]\n",
      "\n",
      "model  0:     [RandomForestClassifier]\n",
      "    fold  0:  [0.67156827]\n",
      "    fold  1:  [0.67660934]\n",
      "    fold  2:  [0.68785579]\n",
      "    fold  3:  [0.67465114]\n",
      "    fold  4:  [0.67571069]\n",
      "    ----\n",
      "    MEAN:     [0.67727904] + [0.00555508]\n",
      "    FULL:     [0.67728776]\n",
      "\n",
      "model  1:     [XGBClassifier]\n",
      "    fold  0:  [0.69597927]\n",
      "    fold  1:  [0.70207548]\n",
      "    fold  2:  [0.71304881]\n",
      "    fold  3:  [0.70836636]\n",
      "    fold  4:  [0.70339014]\n",
      "    ----\n",
      "    MEAN:     [0.70457201] + [0.00579168]\n",
      "    FULL:     [0.70457906]\n",
      "\n",
      "model  2:     [AdaBoostClassifier]\n",
      "    fold  0:  [0.76503355]\n",
      "    fold  1:  [0.66355653]\n",
      "    fold  2:  [0.60092593]\n",
      "    fold  3:  [0.70936012]\n",
      "    fold  4:  [0.74918842]\n",
      "    ----\n",
      "    MEAN:     [0.69761291] + [0.05975246]\n",
      "    FULL:     [0.70033108]\n",
      "\n",
      "Métricas para stacking:  {'accuracy': 0.7300714285714286, 'roc_auc': 0.7297079110074348, 'precision': 0.7442653440793552, 'recall': 0.6928293175587938, 'f1': 0.717626840020922, 'f2': 0.7025397940074906, 'TP': 4802, 'FP': 1650, 'TN': 5419, 'FN': 2129}\n"
     ]
    }
   ],
   "source": [
    "# Entrerar Random Forest\n",
    "def f2_score(y_true, y_pred, labels=None, pos_label=1, average=\"binary\", sample_weight=None):\n",
    "    return sklearn.metrics.fbeta_score(y_true, y_pred, 2, labels, pos_label, average, sample_weight)\n",
    "    \n",
    "modelos = [\n",
    "    sklearn.ensemble.RandomForestClassifier(n_estimators=100, \n",
    "                                            criterion=\"gini\", \n",
    "                                            max_depth=6,                                                                    \n",
    "                                            random_state=0),\n",
    "    xgboost.XGBClassifier(n_estimators=100,\n",
    "                          max_depth=6,\n",
    "                          learning_rate=0.20,\n",
    "                          objective='binary:logistic',\n",
    "                          seed=0),\n",
    "    sklearn.ensemble.AdaBoostClassifier(n_estimators=100,\n",
    "                                        base_estimator=sklearn.naive_bayes.GaussianNB(),\n",
    "                                        learning_rate=0.25,\n",
    "                                        random_state=0)  \n",
    "]\n",
    "S_train, S_test = vecstack.stacking(modelos, atributosDesarrollo, objetivoDesarrollo, atributosTest, \n",
    "                                    n_folds = 5, shuffle = True, metric=f2_score, verbose = 2)\n",
    "\n",
    "# Efectuar meta-modelo con XGBoost\n",
    "metaModelo           = xgboost.XGBClassifier(n_estimators=100, learning_rate=0.25, max_depth=6, \n",
    "                                             objective='binary:logistic', seed=0)\n",
    "modeloFinal          = metaModelo.fit(numpy.c_[S_train], objetivoDesarrollo)\n",
    "prediccionesStacking = modeloFinal.predict(numpy.c_[S_test])\n",
    "metricasStacking     = CalcularMetricas(objetivoTest, prediccionesStacking)\n",
    "print(\"Métricas para stacking: \", metricasStacking)"
   ]
  },
  {
   "cell_type": "code",
   "execution_count": null,
   "metadata": {},
   "outputs": [],
   "source": []
  }
 ],
 "metadata": {
  "kernelspec": {
   "display_name": "Python 3",
   "language": "python",
   "name": "python3"
  },
  "language_info": {
   "codemirror_mode": {
    "name": "ipython",
    "version": 3
   },
   "file_extension": ".py",
   "mimetype": "text/x-python",
   "name": "python",
   "nbconvert_exporter": "python",
   "pygments_lexer": "ipython3",
   "version": "3.7.2"
  }
 },
 "nbformat": 4,
 "nbformat_minor": 2
}
